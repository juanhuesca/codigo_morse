{
  "nbformat": 4,
  "nbformat_minor": 0,
  "metadata": {
    "colab": {
      "name": "morse_juan.ipynb",
      "provenance": [],
      "collapsed_sections": [],
      "include_colab_link": true
    },
    "kernelspec": {
      "name": "python3",
      "display_name": "Python 3"
    }
  },
  "cells": [
    {
      "cell_type": "markdown",
      "metadata": {
        "id": "view-in-github",
        "colab_type": "text"
      },
      "source": [
        "<a href=\"https://colab.research.google.com/github/juanhuesca/codigo_morse/blob/master/morse_juan.ipynb\" target=\"_parent\"><img src=\"https://colab.research.google.com/assets/colab-badge.svg\" alt=\"Open In Colab\"/></a>"
      ]
    },
    {
      "cell_type": "code",
      "metadata": {
        "id": "qgQyPQ9N_SbZ",
        "colab_type": "code",
        "colab": {}
      },
      "source": [
        "juan1 = []"
      ],
      "execution_count": 0,
      "outputs": []
    },
    {
      "cell_type": "code",
      "metadata": {
        "id": "WfldvIzrBOV0",
        "colab_type": "code",
        "outputId": "eaa88ac8-4004-4f34-c55a-f149da6aaa67",
        "colab": {
          "base_uri": "https://localhost:8080/",
          "height": 34
        }
      },
      "source": [
        "juan1   "
      ],
      "execution_count": 0,
      "outputs": [
        {
          "output_type": "execute_result",
          "data": {
            "text/plain": [
              "[]"
            ]
          },
          "metadata": {
            "tags": []
          },
          "execution_count": 4
        }
      ]
    },
    {
      "cell_type": "code",
      "metadata": {
        "id": "PpQA1YHsBY3D",
        "colab_type": "code",
        "outputId": "baf994a1-abf4-4b71-c3e5-3358d47b5b66",
        "colab": {
          "base_uri": "https://localhost:8080/",
          "height": 34
        }
      },
      "source": [
        "type(juan1)"
      ],
      "execution_count": 0,
      "outputs": [
        {
          "output_type": "execute_result",
          "data": {
            "text/plain": [
              "list"
            ]
          },
          "metadata": {
            "tags": []
          },
          "execution_count": 5
        }
      ]
    },
    {
      "cell_type": "code",
      "metadata": {
        "id": "IRmT79uIB5Nz",
        "colab_type": "code",
        "colab": {}
      },
      "source": [
        "juan2 = [\"dos\", 3 , \"cuatro\", 5]"
      ],
      "execution_count": 0,
      "outputs": []
    },
    {
      "cell_type": "code",
      "metadata": {
        "id": "pQACbKzsB6pz",
        "colab_type": "code",
        "outputId": "ec1cfbb0-b484-4043-f058-30aba4a05711",
        "colab": {
          "base_uri": "https://localhost:8080/",
          "height": 34
        }
      },
      "source": [
        "len(juan2)"
      ],
      "execution_count": 0,
      "outputs": [
        {
          "output_type": "execute_result",
          "data": {
            "text/plain": [
              "4"
            ]
          },
          "metadata": {
            "tags": []
          },
          "execution_count": 8
        }
      ]
    },
    {
      "cell_type": "code",
      "metadata": {
        "id": "jKfHVAAKB6xl",
        "colab_type": "code",
        "outputId": "d635008b-da34-48e6-b0b4-53b55f44f00c",
        "colab": {
          "base_uri": "https://localhost:8080/",
          "height": 34
        }
      },
      "source": [
        "len(juan1)"
      ],
      "execution_count": 0,
      "outputs": [
        {
          "output_type": "execute_result",
          "data": {
            "text/plain": [
              "0"
            ]
          },
          "metadata": {
            "tags": []
          },
          "execution_count": 9
        }
      ]
    },
    {
      "cell_type": "code",
      "metadata": {
        "id": "V0e25BoRB6yj",
        "colab_type": "code",
        "colab": {}
      },
      "source": [
        "juan1.append(\"mañana\")  "
      ],
      "execution_count": 0,
      "outputs": []
    },
    {
      "cell_type": "code",
      "metadata": {
        "id": "kBGvI47rDHeM",
        "colab_type": "code",
        "outputId": "1ad6def4-ef89-4522-bfa8-c1d265a96baa",
        "colab": {
          "base_uri": "https://localhost:8080/",
          "height": 34
        }
      },
      "source": [
        "juan1"
      ],
      "execution_count": 0,
      "outputs": [
        {
          "output_type": "execute_result",
          "data": {
            "text/plain": [
              "['mañana']"
            ]
          },
          "metadata": {
            "tags": []
          },
          "execution_count": 11
        }
      ]
    },
    {
      "cell_type": "code",
      "metadata": {
        "id": "Ko1yFLtrDJrJ",
        "colab_type": "code",
        "outputId": "5e03b3a4-eeaa-4c2f-8db5-74fded5d99c3",
        "colab": {
          "base_uri": "https://localhost:8080/",
          "height": 85
        }
      },
      "source": [
        "for i in juan2 :\n",
        "   print(i)"
      ],
      "execution_count": 0,
      "outputs": [
        {
          "output_type": "stream",
          "text": [
            "dos\n",
            "3\n",
            "cuatro\n",
            "5\n"
          ],
          "name": "stdout"
        }
      ]
    },
    {
      "cell_type": "code",
      "metadata": {
        "id": "y4RB-HMADeYp",
        "colab_type": "code",
        "colab": {}
      },
      "source": [
        "fruta = {\"manzana\":\"rojo\",\n",
        "         \"pera\":\"verde\",\n",
        "       \n",
        "        \"mandarina\":\"naranja\"}\n",
        "         \n",
        "         \n",
        "         \n",
        "         \n",
        "         \n",
        "         \n",
        "  "
      ],
      "execution_count": 0,
      "outputs": []
    },
    {
      "cell_type": "code",
      "metadata": {
        "id": "JzduvT0LGmrg",
        "colab_type": "code",
        "outputId": "249fc09f-bc4c-4a1d-998f-fab78ecacb16",
        "colab": {
          "base_uri": "https://localhost:8080/",
          "height": 34
        }
      },
      "source": [
        "fruta"
      ],
      "execution_count": 0,
      "outputs": [
        {
          "output_type": "execute_result",
          "data": {
            "text/plain": [
              "{'mandarina': 'naranja', 'manzana': 'rojo', 'pera': 'verde'}"
            ]
          },
          "metadata": {
            "tags": []
          },
          "execution_count": 15
        }
      ]
    },
    {
      "cell_type": "code",
      "metadata": {
        "id": "AR0r7-ioGp2A",
        "colab_type": "code",
        "outputId": "b16f46f3-6908-4f43-e883-abb64560401e",
        "colab": {
          "base_uri": "https://localhost:8080/",
          "height": 34
        }
      },
      "source": [
        "fruta[\"manzana\"]"
      ],
      "execution_count": 0,
      "outputs": [
        {
          "output_type": "execute_result",
          "data": {
            "text/plain": [
              "'rojo'"
            ]
          },
          "metadata": {
            "tags": []
          },
          "execution_count": 16
        }
      ]
    },
    {
      "cell_type": "code",
      "metadata": {
        "id": "zAr2x0qTG46o",
        "colab_type": "code",
        "outputId": "bf05c59f-40e4-4887-e869-fd158ead756d",
        "colab": {
          "base_uri": "https://localhost:8080/",
          "height": 34
        }
      },
      "source": [
        "type(fruta)"
      ],
      "execution_count": 0,
      "outputs": [
        {
          "output_type": "execute_result",
          "data": {
            "text/plain": [
              "dict"
            ]
          },
          "metadata": {
            "tags": []
          },
          "execution_count": 17
        }
      ]
    },
    {
      "cell_type": "code",
      "metadata": {
        "id": "ofB4Fc8OHCbI",
        "colab_type": "code",
        "outputId": "43b5a129-4026-40ba-8352-1f1762ca3d2f",
        "colab": {
          "base_uri": "https://localhost:8080/",
          "height": 68
        }
      },
      "source": [
        "morse = {\"A\":\".-\",\"B\":\"-...\",\"C\":\"-.-.\"}\n",
        "morse[\"D\"] = \"-..\"\n",
        "morse[\"E\"] = \".\"\n",
        "morse[\"F\"] = \"..-.\"\n",
        "morse[\"G\"] = \"--.\"\n",
        "morse[\"H\"] = \"....\"\n",
        "morse[\"I\"] = \"..\"\n",
        "morse[\"J\"] = \".---\"\n",
        "morse[\"K\"] = \"-.-\"\n",
        "morse[\"L\"] = \".-..\"\n",
        "morse[\"M\"] = \"--\"\n",
        "morse[\"N\"] = \"-.\"\n",
        "morse[\"O\"] = \"---\"\n",
        "morse[\"P\"] = \".--.\"\n",
        "morse[\"Q\"] = \"--.-\"\n",
        "morse[\"R\"] = \".-.\"\n",
        "morse[\"S\"] = \"...\"\n",
        "morse[\"T\"] = \"-\"\n",
        "morse[\"U\"] = \"..-\"\n",
        "morse[\"V\"] = \"...-\"\n",
        "morse[\"W\"] = \".--\"\n",
        "morse[\"X\"] = \"-..-\"\n",
        "morse[\"Y\"] = \"-.--\"\n",
        "morse[\"Z\"] = \"--..\"\n",
        "\n",
        "message = input(\"puedes escricbir la frase aqui :\").upper()\n",
        "encodeMessage = \"\"\n",
        "\n",
        "for i in message :\n",
        "  if i in morse :\n",
        "    encodeMessage += morse[i] + \" \"\n",
        "  else:\n",
        "    encodeMessage += \" \"\n",
        "\n",
        "print(\"el mensaje del codigo morse es :\")\n",
        "print(encodeMessage)"
      ],
      "execution_count": 0,
      "outputs": [
        {
          "output_type": "stream",
          "text": [
            "puedes escricbir la frase aqui :viva el fortnite\n",
            "el mensaje del codigo morse es :\n",
            "...- .. ...- .-  . .-..  ..-. --- .-. - -. .. - . \n"
          ],
          "name": "stdout"
        }
      ]
    },
    {
      "cell_type": "code",
      "metadata": {
        "id": "vafis5Q9Hk1Q",
        "colab_type": "code",
        "outputId": "2f4edf5a-b80a-4164-e9c9-362656a07ecb",
        "colab": {
          "base_uri": "https://localhost:8080/",
          "height": 459
        }
      },
      "source": [
        "morse"
      ],
      "execution_count": 0,
      "outputs": [
        {
          "output_type": "execute_result",
          "data": {
            "text/plain": [
              "{'A': '.-',\n",
              " 'B': '-...',\n",
              " 'C': '-.-.',\n",
              " 'D': '-..',\n",
              " 'E': '.',\n",
              " 'F': '..-.',\n",
              " 'G': '--.',\n",
              " 'H': '....',\n",
              " 'I': '..',\n",
              " 'J': '.---',\n",
              " 'K': '-.-',\n",
              " 'L': '.-..',\n",
              " 'M': '--',\n",
              " 'N': '-.',\n",
              " 'O': '---',\n",
              " 'P': '.--.',\n",
              " 'Q': '--.-',\n",
              " 'R': '.-.',\n",
              " 'S': '...',\n",
              " 'T': '-',\n",
              " 'U': '..-',\n",
              " 'V': '...-',\n",
              " 'W': '.--',\n",
              " 'X': '-..-',\n",
              " 'Y': '-.--',\n",
              " 'Z': '--..'}"
            ]
          },
          "metadata": {
            "tags": []
          },
          "execution_count": 22
        }
      ]
    },
    {
      "cell_type": "code",
      "metadata": {
        "id": "SWzkIKSxH-SP",
        "colab_type": "code",
        "outputId": "7bd1e520-304b-42ad-ea30-cc8f387ddccb",
        "colab": {
          "base_uri": "https://localhost:8080/",
          "height": 34
        }
      },
      "source": [
        "test = input(\" type here \")"
      ],
      "execution_count": 0,
      "outputs": [
        {
          "output_type": "stream",
          "text": [
            " type here juan\n"
          ],
          "name": "stdout"
        }
      ]
    },
    {
      "cell_type": "code",
      "metadata": {
        "id": "tsFmpp8LKiGW",
        "colab_type": "code",
        "colab": {}
      },
      "source": [
        ""
      ],
      "execution_count": 0,
      "outputs": []
    }
  ]
}